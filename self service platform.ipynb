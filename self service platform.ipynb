{
 "cells": [
  {
   "cell_type": "code",
   "execution_count": 1,
   "metadata": {},
   "outputs": [
    {
     "data": {
      "text/html": [
       "<div>\n",
       "<style scoped>\n",
       "    .dataframe tbody tr th:only-of-type {\n",
       "        vertical-align: middle;\n",
       "    }\n",
       "\n",
       "    .dataframe tbody tr th {\n",
       "        vertical-align: top;\n",
       "    }\n",
       "\n",
       "    .dataframe thead th {\n",
       "        text-align: right;\n",
       "    }\n",
       "</style>\n",
       "<table border=\"1\" class=\"dataframe\">\n",
       "  <thead>\n",
       "    <tr style=\"text-align: right;\">\n",
       "      <th></th>\n",
       "      <th>cust_id</th>\n",
       "      <th>var1</th>\n",
       "      <th>var2</th>\n",
       "      <th>var3</th>\n",
       "      <th>var4</th>\n",
       "      <th>var5</th>\n",
       "      <th>var6</th>\n",
       "      <th>var7</th>\n",
       "      <th>var8</th>\n",
       "      <th>var9</th>\n",
       "      <th>...</th>\n",
       "      <th>var31</th>\n",
       "      <th>var32</th>\n",
       "      <th>var33</th>\n",
       "      <th>var34</th>\n",
       "      <th>var35</th>\n",
       "      <th>var36</th>\n",
       "      <th>var37</th>\n",
       "      <th>var38</th>\n",
       "      <th>var39</th>\n",
       "      <th>var40</th>\n",
       "    </tr>\n",
       "  </thead>\n",
       "  <tbody>\n",
       "    <tr>\n",
       "      <td>0</td>\n",
       "      <td>400001</td>\n",
       "      <td>2871</td>\n",
       "      <td>0</td>\n",
       "      <td>0</td>\n",
       "      <td>1925</td>\n",
       "      <td>0</td>\n",
       "      <td>7</td>\n",
       "      <td>0</td>\n",
       "      <td>1</td>\n",
       "      <td>238388</td>\n",
       "      <td>...</td>\n",
       "      <td>0</td>\n",
       "      <td>0</td>\n",
       "      <td>other</td>\n",
       "      <td>Pending</td>\n",
       "      <td>Standard</td>\n",
       "      <td>Video/Internet/Voice</td>\n",
       "      <td>N</td>\n",
       "      <td>NaN</td>\n",
       "      <td>Single Housing</td>\n",
       "      <td>N</td>\n",
       "    </tr>\n",
       "    <tr>\n",
       "      <td>1</td>\n",
       "      <td>400002</td>\n",
       "      <td>562</td>\n",
       "      <td>0</td>\n",
       "      <td>0</td>\n",
       "      <td>197</td>\n",
       "      <td>0</td>\n",
       "      <td>3</td>\n",
       "      <td>0</td>\n",
       "      <td>0</td>\n",
       "      <td>136782</td>\n",
       "      <td>...</td>\n",
       "      <td>0</td>\n",
       "      <td>0</td>\n",
       "      <td>other</td>\n",
       "      <td>Inactive</td>\n",
       "      <td>Standard</td>\n",
       "      <td>Internet Only</td>\n",
       "      <td>N</td>\n",
       "      <td>Other</td>\n",
       "      <td>Single Housing</td>\n",
       "      <td>N</td>\n",
       "    </tr>\n",
       "    <tr>\n",
       "      <td>2</td>\n",
       "      <td>400003</td>\n",
       "      <td>4350</td>\n",
       "      <td>0</td>\n",
       "      <td>1</td>\n",
       "      <td>5664</td>\n",
       "      <td>0</td>\n",
       "      <td>8</td>\n",
       "      <td>1</td>\n",
       "      <td>25</td>\n",
       "      <td>336602</td>\n",
       "      <td>...</td>\n",
       "      <td>0</td>\n",
       "      <td>1</td>\n",
       "      <td>other</td>\n",
       "      <td>Inactive</td>\n",
       "      <td>Standard</td>\n",
       "      <td>Video/Internet</td>\n",
       "      <td>N</td>\n",
       "      <td>NaN</td>\n",
       "      <td>Single Housing</td>\n",
       "      <td>N</td>\n",
       "    </tr>\n",
       "    <tr>\n",
       "      <td>3</td>\n",
       "      <td>400004</td>\n",
       "      <td>7580</td>\n",
       "      <td>0</td>\n",
       "      <td>1</td>\n",
       "      <td>6093</td>\n",
       "      <td>0</td>\n",
       "      <td>8</td>\n",
       "      <td>4</td>\n",
       "      <td>31</td>\n",
       "      <td>501694</td>\n",
       "      <td>...</td>\n",
       "      <td>0</td>\n",
       "      <td>1</td>\n",
       "      <td>other</td>\n",
       "      <td>Active</td>\n",
       "      <td>Standard</td>\n",
       "      <td>Internet Only</td>\n",
       "      <td>N</td>\n",
       "      <td>NaN</td>\n",
       "      <td>Single Housing</td>\n",
       "      <td>N</td>\n",
       "    </tr>\n",
       "    <tr>\n",
       "      <td>4</td>\n",
       "      <td>400005</td>\n",
       "      <td>58</td>\n",
       "      <td>0</td>\n",
       "      <td>0</td>\n",
       "      <td>53</td>\n",
       "      <td>0</td>\n",
       "      <td>0</td>\n",
       "      <td>0</td>\n",
       "      <td>0</td>\n",
       "      <td>87465</td>\n",
       "      <td>...</td>\n",
       "      <td>0</td>\n",
       "      <td>0</td>\n",
       "      <td>other</td>\n",
       "      <td>Active</td>\n",
       "      <td>Standard</td>\n",
       "      <td>Video/Internet</td>\n",
       "      <td>N</td>\n",
       "      <td>NaN</td>\n",
       "      <td>Single Housing</td>\n",
       "      <td>N</td>\n",
       "    </tr>\n",
       "  </tbody>\n",
       "</table>\n",
       "<p>5 rows × 37 columns</p>\n",
       "</div>"
      ],
      "text/plain": [
       "   cust_id  var1  var2  var3  var4  var5  var6  var7  var8    var9  ...  \\\n",
       "0   400001  2871     0     0  1925     0     7     0     1  238388  ...   \n",
       "1   400002   562     0     0   197     0     3     0     0  136782  ...   \n",
       "2   400003  4350     0     1  5664     0     8     1    25  336602  ...   \n",
       "3   400004  7580     0     1  6093     0     8     4    31  501694  ...   \n",
       "4   400005    58     0     0    53     0     0     0     0   87465  ...   \n",
       "\n",
       "   var31  var32  var33     var34     var35                 var36  var37  \\\n",
       "0      0      0  other   Pending  Standard  Video/Internet/Voice      N   \n",
       "1      0      0  other  Inactive  Standard         Internet Only      N   \n",
       "2      0      1  other  Inactive  Standard        Video/Internet      N   \n",
       "3      0      1  other    Active  Standard         Internet Only      N   \n",
       "4      0      0  other    Active  Standard        Video/Internet      N   \n",
       "\n",
       "   var38           var39  var40  \n",
       "0    NaN  Single Housing      N  \n",
       "1  Other  Single Housing      N  \n",
       "2    NaN  Single Housing      N  \n",
       "3    NaN  Single Housing      N  \n",
       "4    NaN  Single Housing      N  \n",
       "\n",
       "[5 rows x 37 columns]"
      ]
     },
     "execution_count": 1,
     "metadata": {},
     "output_type": "execute_result"
    }
   ],
   "source": [
    "import numpy as np\n",
    "import pandas as pd\n",
    "df = pd.read_csv('EXL_EQ_2020_Test_datasets.csv')\n",
    "df.head()"
   ]
  },
  {
   "cell_type": "code",
   "execution_count": 2,
   "metadata": {},
   "outputs": [],
   "source": [
    "num_value = {'entertainment_channel1':1, 'entertainment_channel2':2, 'movie_channel1':3, 'news_channel1':4, 'news_channel2':5, 'other':6}\n",
    "df['var33'] = df['var33'].apply(lambda x: num_value[x])"
   ]
  },
  {
   "cell_type": "code",
   "execution_count": 3,
   "metadata": {},
   "outputs": [],
   "source": [
    "num_value = {'Active':1, 'Cancelled':2, 'Inactive':3, 'Never':4, 'Pending':5}\n",
    "df['var34'] = df['var34'].apply(lambda x: num_value[x])"
   ]
  },
  {
   "cell_type": "code",
   "execution_count": 4,
   "metadata": {},
   "outputs": [],
   "source": [
    "df['var35'].fillna('nan',inplace=True)"
   ]
  },
  {
   "cell_type": "code",
   "execution_count": 5,
   "metadata": {},
   "outputs": [],
   "source": [
    "num_value = {'nan':0,'CreditCard':1, 'Electronic Transfer':2, 'Standard':3}\n",
    "df['var35'] = df['var35'].apply(lambda x: num_value[x])"
   ]
  },
  {
   "cell_type": "code",
   "execution_count": 6,
   "metadata": {},
   "outputs": [],
   "source": [
    "df['var36']=df['var36'].fillna('nan')"
   ]
  },
  {
   "cell_type": "code",
   "execution_count": 7,
   "metadata": {},
   "outputs": [],
   "source": [
    "num_val={'Homesecurity Only':1, 'Internet Only':2, 'Internet/Homesecurity':3,\n",
    "       'Internet/Voice':4, 'Internet/Voice/Homesecurity':5, 'Video Only':6,\n",
    "       'Video/Homesecurity':7, 'Video/Internet':8,\n",
    "       'Video/Internet/Homesecurity':9, 'Video/Internet/Voice':10,\n",
    "       'Video/Internet/Voice/Homesecurity':11, 'Video/Voice':12,\n",
    "       'Video/Voice/Homesecurity':13,'Voice Only':14, 'nan':0}\n",
    "df['var36'] = df['var36'].apply(lambda x: num_val[x])"
   ]
  },
  {
   "cell_type": "code",
   "execution_count": 8,
   "metadata": {},
   "outputs": [],
   "source": [
    "df['var37'].fillna('nan',inplace=True)"
   ]
  },
  {
   "cell_type": "code",
   "execution_count": 9,
   "metadata": {},
   "outputs": [],
   "source": [
    "num_value = {'Y':0, 'N':1,'nan':2}\n",
    "df['var37'] = df['var37'].apply(lambda x: num_value[x])"
   ]
  },
  {
   "cell_type": "code",
   "execution_count": 10,
   "metadata": {},
   "outputs": [],
   "source": [
    "df['var38'] = df['var38'].fillna('nan')"
   ]
  },
  {
   "cell_type": "code",
   "execution_count": 12,
   "metadata": {},
   "outputs": [],
   "source": [
    "df['var39']=df['var39'].fillna('nan')"
   ]
  },
  {
   "cell_type": "code",
   "execution_count": 13,
   "metadata": {},
   "outputs": [],
   "source": [
    "num= {'nan':5,'Commercial':4,'Single Housing':3, 'Multi Housing':2, 'Exclude mapping':1, 'Other':0}\n",
    "df['var39'] = df['var39'].apply(lambda x: num[x])"
   ]
  },
  {
   "cell_type": "code",
   "execution_count": 14,
   "metadata": {},
   "outputs": [],
   "source": [
    "num_value = {'Y':1,'N': 0}\n",
    "df['var40'] = df['var40'].apply(lambda x: num_value[x])"
   ]
  },
  {
   "cell_type": "code",
   "execution_count": 15,
   "metadata": {},
   "outputs": [],
   "source": [
    "import numpy as np\n",
    "df['var24']=df['var24'].fillna(np.mean(df['var24']))"
   ]
  },
  {
   "cell_type": "code",
   "execution_count": 16,
   "metadata": {},
   "outputs": [],
   "source": [
    "x_test = df.drop(['cust_id','var30'],axis = 1)"
   ]
  },
  {
   "cell_type": "code",
   "execution_count": 17,
   "metadata": {},
   "outputs": [],
   "source": [
    "df_train = pd.read_csv('EXL_EQ_2020_Train_datasets.csv')\n"
   ]
  },
  {
   "cell_type": "code",
   "execution_count": 18,
   "metadata": {},
   "outputs": [],
   "source": [
    "num_value = {'entertainment_channel1':1, 'entertainment_channel2':2, 'movie_channel1':3, 'news_channel1':4, 'news_channel2':5, 'other':6}\n",
    "df_train['var33'] = df_train['var33'].apply(lambda x: num_value[x])"
   ]
  },
  {
   "cell_type": "code",
   "execution_count": 19,
   "metadata": {},
   "outputs": [],
   "source": [
    "num_value = {'Active':1, 'Cancelled':2, 'Inactive':3, 'Never':4, 'Pending':5}\n",
    "df_train['var34'] = df_train['var34'].apply(lambda x: num_value[x])"
   ]
  },
  {
   "cell_type": "code",
   "execution_count": 20,
   "metadata": {},
   "outputs": [],
   "source": [
    "\n",
    "\n",
    "\n",
    "\n",
    "\n",
    "\n",
    "num_value = {'CreditCard':1, 'Electronic Transfer':2, 'Standard':3}\n",
    "df_train['var35'] = df_train['var35'].apply(lambda x: num_value[x])"
   ]
  },
  {
   "cell_type": "code",
   "execution_count": 21,
   "metadata": {},
   "outputs": [],
   "source": [
    "df_train['var37'].fillna('nan',inplace=True)"
   ]
  },
  {
   "cell_type": "code",
   "execution_count": 22,
   "metadata": {},
   "outputs": [],
   "source": [
    "num_value = {'Y':0, 'N':1,'nan':2}\n",
    "df_train['var37'] = df_train['var37'].apply(lambda x: num_value[x])"
   ]
  },
  {
   "cell_type": "code",
   "execution_count": 23,
   "metadata": {},
   "outputs": [],
   "source": [
    "df_train['var38'] = df_train['var38'].fillna('nan')"
   ]
  },
  {
   "cell_type": "code",
   "execution_count": 24,
   "metadata": {},
   "outputs": [],
   "source": [
    "num_value = {'Agent':3, 'Other':2, 'Self Service':1, 'nan':0}\n",
    "df_train['var38'] = df_train['var38'].apply(lambda x: num_value[x])"
   ]
  },
  {
   "cell_type": "code",
   "execution_count": 25,
   "metadata": {},
   "outputs": [],
   "source": [
    "df_train['var39']=df_train['var39'].fillna('nan')"
   ]
  },
  {
   "cell_type": "code",
   "execution_count": 26,
   "metadata": {},
   "outputs": [],
   "source": [
    "num= {'nan':5,'Commercial':4,'Single Housing':3, 'Multi Housing':2, 'Exclude mapping':1, 'Other':0}\n",
    "df_train['var39'] = df_train['var39'].apply(lambda x: num[x])"
   ]
  },
  {
   "cell_type": "code",
   "execution_count": 27,
   "metadata": {},
   "outputs": [],
   "source": [
    "num_value = {'Y':1,'N': 0}\n",
    "df_train['var40'] = df_train['var40'].apply(lambda x: num_value[x])"
   ]
  },
  {
   "cell_type": "code",
   "execution_count": 28,
   "metadata": {},
   "outputs": [],
   "source": [
    "num = {'Desktop':1, 'Mobile App':2, 'Mobile Web':3, 'STB':4}\n",
    "df_train['self_service_platform'] = df_train['self_service_platform'].apply(lambda x: num[x])"
   ]
  },
  {
   "cell_type": "code",
   "execution_count": 29,
   "metadata": {},
   "outputs": [],
   "source": [
    "import numpy as np\n",
    "df_train['var24']=df_train['var24'].fillna(np.mean(df['var24']))\n"
   ]
  },
  {
   "cell_type": "code",
   "execution_count": 30,
   "metadata": {},
   "outputs": [],
   "source": [
    "df_train['var36']=df_train['var36'].fillna('nan')"
   ]
  },
  {
   "cell_type": "code",
   "execution_count": 31,
   "metadata": {},
   "outputs": [],
   "source": [
    "num_val={'Homesecurity Only':1, 'Internet Only':2, 'Internet/Homesecurity':3,\n",
    "       'Internet/Voice':4, 'Internet/Voice/Homesecurity':5, 'Video Only':6,\n",
    "       'Video/Homesecurity':7, 'Video/Internet':8,\n",
    "       'Video/Internet/Homesecurity':9, 'Video/Internet/Voice':10,\n",
    "       'Video/Internet/Voice/Homesecurity':11, 'Video/Voice':12,\n",
    "       'Video/Voice/Homesecurity':13,'Voice Only':14, 'nan':0}\n",
    "df_train['var36'] = df_train['var36'].apply(lambda x: num_val[x])"
   ]
  },
  {
   "cell_type": "code",
   "execution_count": null,
   "metadata": {},
   "outputs": [],
   "source": []
  },
  {
   "cell_type": "code",
   "execution_count": 32,
   "metadata": {},
   "outputs": [],
   "source": [
    "y_train = df_train['self_service_platform']"
   ]
  },
  {
   "cell_type": "code",
   "execution_count": 33,
   "metadata": {},
   "outputs": [],
   "source": [
    "x_train = df_train.drop(['cust_id','var30','self_service_platform'],axis = 1)"
   ]
  },
  {
   "cell_type": "code",
   "execution_count": null,
   "metadata": {},
   "outputs": [],
   "source": []
  },
  {
   "cell_type": "code",
   "execution_count": 34,
   "metadata": {},
   "outputs": [],
   "source": [
    "#selecting features"
   ]
  },
  {
   "cell_type": "code",
   "execution_count": 35,
   "metadata": {},
   "outputs": [
    {
     "name": "stderr",
     "output_type": "stream",
     "text": [
      "C:\\Users\\SHRADDHA MEHTA\\Anaconda3\\lib\\site-packages\\sklearn\\ensemble\\forest.py:245: FutureWarning: The default value of n_estimators will change from 10 in version 0.20 to 100 in 0.22.\n",
      "  \"10 in version 0.20 to 100 in 0.22.\", FutureWarning)\n"
     ]
    },
    {
     "data": {
      "text/plain": [
       "ExtraTreesClassifier(bootstrap=False, class_weight=None, criterion='gini',\n",
       "                     max_depth=None, max_features='auto', max_leaf_nodes=None,\n",
       "                     min_impurity_decrease=0.0, min_impurity_split=None,\n",
       "                     min_samples_leaf=1, min_samples_split=2,\n",
       "                     min_weight_fraction_leaf=0.0, n_estimators=10, n_jobs=None,\n",
       "                     oob_score=False, random_state=0, verbose=0,\n",
       "                     warm_start=False)"
      ]
     },
     "execution_count": 35,
     "metadata": {},
     "output_type": "execute_result"
    }
   ],
   "source": [
    "from sklearn.ensemble import ExtraTreesClassifier\n",
    "model = ExtraTreesClassifier(random_state = 0)\n",
    "model.fit(x_train,y_train)\n",
    "\n",
    "\n",
    "\n"
   ]
  },
  {
   "cell_type": "code",
   "execution_count": 36,
   "metadata": {},
   "outputs": [
    {
     "data": {
      "text/plain": [
       "array([0.07216976, 0.00208321, 0.02373479, 0.05685914, 0.00546178,\n",
       "       0.03010991, 0.01187685, 0.02746032, 0.05879473, 0.01285615,\n",
       "       0.00883297, 0.04662847, 0.05334802, 0.00778874, 0.0555467 ,\n",
       "       0.00230979, 0.0590645 , 0.06830939, 0.05207779, 0.02144567,\n",
       "       0.00207666, 0.03028521, 0.05803091, 0.01861138, 0.02036712,\n",
       "       0.00286233, 0.03814252, 0.0127739 , 0.03054569, 0.00823528,\n",
       "       0.03574595, 0.01013224, 0.02306702, 0.02063057, 0.01173451])"
      ]
     },
     "execution_count": 36,
     "metadata": {},
     "output_type": "execute_result"
    }
   ],
   "source": [
    "z = model.feature_importances_\n",
    "z"
   ]
  },
  {
   "cell_type": "code",
   "execution_count": 37,
   "metadata": {},
   "outputs": [
    {
     "data": {
      "text/plain": [
       "array([ 0,  3,  5,  8, 11, 12, 14, 16, 17, 18, 21, 22, 26, 28, 30])"
      ]
     },
     "execution_count": 37,
     "metadata": {},
     "output_type": "execute_result"
    }
   ],
   "source": [
    "idx = np.arange(0, x_train.shape[1])\n",
    "features_to_keep = idx[z > np.mean(z)]\n",
    "features_to_keep"
   ]
  },
  {
   "cell_type": "code",
   "execution_count": 38,
   "metadata": {},
   "outputs": [
    {
     "data": {
      "text/html": [
       "<div>\n",
       "<style scoped>\n",
       "    .dataframe tbody tr th:only-of-type {\n",
       "        vertical-align: middle;\n",
       "    }\n",
       "\n",
       "    .dataframe tbody tr th {\n",
       "        vertical-align: top;\n",
       "    }\n",
       "\n",
       "    .dataframe thead th {\n",
       "        text-align: right;\n",
       "    }\n",
       "</style>\n",
       "<table border=\"1\" class=\"dataframe\">\n",
       "  <thead>\n",
       "    <tr style=\"text-align: right;\">\n",
       "      <th></th>\n",
       "      <th>var1</th>\n",
       "      <th>var4</th>\n",
       "      <th>var6</th>\n",
       "      <th>var9</th>\n",
       "      <th>var12</th>\n",
       "      <th>var13</th>\n",
       "      <th>var15</th>\n",
       "      <th>var21</th>\n",
       "      <th>var22</th>\n",
       "      <th>var23</th>\n",
       "      <th>var26</th>\n",
       "      <th>var27</th>\n",
       "      <th>var32</th>\n",
       "      <th>var34</th>\n",
       "      <th>var36</th>\n",
       "    </tr>\n",
       "  </thead>\n",
       "  <tbody>\n",
       "    <tr>\n",
       "      <td>0</td>\n",
       "      <td>2667</td>\n",
       "      <td>1768</td>\n",
       "      <td>4</td>\n",
       "      <td>291016</td>\n",
       "      <td>109</td>\n",
       "      <td>447</td>\n",
       "      <td>161</td>\n",
       "      <td>9</td>\n",
       "      <td>85287</td>\n",
       "      <td>27</td>\n",
       "      <td>4</td>\n",
       "      <td>153</td>\n",
       "      <td>0</td>\n",
       "      <td>3</td>\n",
       "      <td>10</td>\n",
       "    </tr>\n",
       "    <tr>\n",
       "      <td>1</td>\n",
       "      <td>435</td>\n",
       "      <td>515</td>\n",
       "      <td>3</td>\n",
       "      <td>137667</td>\n",
       "      <td>17</td>\n",
       "      <td>135</td>\n",
       "      <td>34</td>\n",
       "      <td>4</td>\n",
       "      <td>60868</td>\n",
       "      <td>4</td>\n",
       "      <td>1</td>\n",
       "      <td>74</td>\n",
       "      <td>0</td>\n",
       "      <td>4</td>\n",
       "      <td>8</td>\n",
       "    </tr>\n",
       "    <tr>\n",
       "      <td>2</td>\n",
       "      <td>1520</td>\n",
       "      <td>2280</td>\n",
       "      <td>6</td>\n",
       "      <td>301567</td>\n",
       "      <td>120</td>\n",
       "      <td>453</td>\n",
       "      <td>112</td>\n",
       "      <td>10</td>\n",
       "      <td>92324</td>\n",
       "      <td>26</td>\n",
       "      <td>5</td>\n",
       "      <td>133</td>\n",
       "      <td>0</td>\n",
       "      <td>3</td>\n",
       "      <td>10</td>\n",
       "    </tr>\n",
       "    <tr>\n",
       "      <td>3</td>\n",
       "      <td>4393</td>\n",
       "      <td>5731</td>\n",
       "      <td>8</td>\n",
       "      <td>436735</td>\n",
       "      <td>726</td>\n",
       "      <td>797</td>\n",
       "      <td>266</td>\n",
       "      <td>33</td>\n",
       "      <td>117785</td>\n",
       "      <td>71</td>\n",
       "      <td>11</td>\n",
       "      <td>208</td>\n",
       "      <td>1</td>\n",
       "      <td>1</td>\n",
       "      <td>2</td>\n",
       "    </tr>\n",
       "    <tr>\n",
       "      <td>4</td>\n",
       "      <td>3587</td>\n",
       "      <td>2493</td>\n",
       "      <td>7</td>\n",
       "      <td>314970</td>\n",
       "      <td>237</td>\n",
       "      <td>614</td>\n",
       "      <td>166</td>\n",
       "      <td>15</td>\n",
       "      <td>100083</td>\n",
       "      <td>46</td>\n",
       "      <td>6</td>\n",
       "      <td>155</td>\n",
       "      <td>0</td>\n",
       "      <td>4</td>\n",
       "      <td>2</td>\n",
       "    </tr>\n",
       "    <tr>\n",
       "      <td>...</td>\n",
       "      <td>...</td>\n",
       "      <td>...</td>\n",
       "      <td>...</td>\n",
       "      <td>...</td>\n",
       "      <td>...</td>\n",
       "      <td>...</td>\n",
       "      <td>...</td>\n",
       "      <td>...</td>\n",
       "      <td>...</td>\n",
       "      <td>...</td>\n",
       "      <td>...</td>\n",
       "      <td>...</td>\n",
       "      <td>...</td>\n",
       "      <td>...</td>\n",
       "      <td>...</td>\n",
       "    </tr>\n",
       "    <tr>\n",
       "      <td>299995</td>\n",
       "      <td>53</td>\n",
       "      <td>74</td>\n",
       "      <td>0</td>\n",
       "      <td>59734</td>\n",
       "      <td>0</td>\n",
       "      <td>68</td>\n",
       "      <td>3</td>\n",
       "      <td>0</td>\n",
       "      <td>28748</td>\n",
       "      <td>0</td>\n",
       "      <td>1</td>\n",
       "      <td>12</td>\n",
       "      <td>0</td>\n",
       "      <td>1</td>\n",
       "      <td>2</td>\n",
       "    </tr>\n",
       "    <tr>\n",
       "      <td>299996</td>\n",
       "      <td>4083</td>\n",
       "      <td>3244</td>\n",
       "      <td>8</td>\n",
       "      <td>349569</td>\n",
       "      <td>332</td>\n",
       "      <td>691</td>\n",
       "      <td>212</td>\n",
       "      <td>20</td>\n",
       "      <td>108589</td>\n",
       "      <td>57</td>\n",
       "      <td>7</td>\n",
       "      <td>177</td>\n",
       "      <td>0</td>\n",
       "      <td>5</td>\n",
       "      <td>2</td>\n",
       "    </tr>\n",
       "    <tr>\n",
       "      <td>299997</td>\n",
       "      <td>2730</td>\n",
       "      <td>2432</td>\n",
       "      <td>4</td>\n",
       "      <td>264067</td>\n",
       "      <td>88</td>\n",
       "      <td>444</td>\n",
       "      <td>103</td>\n",
       "      <td>14</td>\n",
       "      <td>88551</td>\n",
       "      <td>42</td>\n",
       "      <td>6</td>\n",
       "      <td>149</td>\n",
       "      <td>0</td>\n",
       "      <td>5</td>\n",
       "      <td>2</td>\n",
       "    </tr>\n",
       "    <tr>\n",
       "      <td>299998</td>\n",
       "      <td>2875</td>\n",
       "      <td>2321</td>\n",
       "      <td>4</td>\n",
       "      <td>295776</td>\n",
       "      <td>81</td>\n",
       "      <td>481</td>\n",
       "      <td>117</td>\n",
       "      <td>11</td>\n",
       "      <td>96020</td>\n",
       "      <td>32</td>\n",
       "      <td>5</td>\n",
       "      <td>116</td>\n",
       "      <td>0</td>\n",
       "      <td>5</td>\n",
       "      <td>8</td>\n",
       "    </tr>\n",
       "    <tr>\n",
       "      <td>299999</td>\n",
       "      <td>1533</td>\n",
       "      <td>1249</td>\n",
       "      <td>5</td>\n",
       "      <td>257782</td>\n",
       "      <td>166</td>\n",
       "      <td>315</td>\n",
       "      <td>146</td>\n",
       "      <td>8</td>\n",
       "      <td>92161</td>\n",
       "      <td>29</td>\n",
       "      <td>3</td>\n",
       "      <td>119</td>\n",
       "      <td>0</td>\n",
       "      <td>4</td>\n",
       "      <td>10</td>\n",
       "    </tr>\n",
       "  </tbody>\n",
       "</table>\n",
       "<p>300000 rows × 15 columns</p>\n",
       "</div>"
      ],
      "text/plain": [
       "        var1  var4  var6    var9  var12  var13  var15  var21   var22  var23  \\\n",
       "0       2667  1768     4  291016    109    447    161      9   85287     27   \n",
       "1        435   515     3  137667     17    135     34      4   60868      4   \n",
       "2       1520  2280     6  301567    120    453    112     10   92324     26   \n",
       "3       4393  5731     8  436735    726    797    266     33  117785     71   \n",
       "4       3587  2493     7  314970    237    614    166     15  100083     46   \n",
       "...      ...   ...   ...     ...    ...    ...    ...    ...     ...    ...   \n",
       "299995    53    74     0   59734      0     68      3      0   28748      0   \n",
       "299996  4083  3244     8  349569    332    691    212     20  108589     57   \n",
       "299997  2730  2432     4  264067     88    444    103     14   88551     42   \n",
       "299998  2875  2321     4  295776     81    481    117     11   96020     32   \n",
       "299999  1533  1249     5  257782    166    315    146      8   92161     29   \n",
       "\n",
       "        var26  var27  var32  var34  var36  \n",
       "0           4    153      0      3     10  \n",
       "1           1     74      0      4      8  \n",
       "2           5    133      0      3     10  \n",
       "3          11    208      1      1      2  \n",
       "4           6    155      0      4      2  \n",
       "...       ...    ...    ...    ...    ...  \n",
       "299995      1     12      0      1      2  \n",
       "299996      7    177      0      5      2  \n",
       "299997      6    149      0      5      2  \n",
       "299998      5    116      0      5      8  \n",
       "299999      3    119      0      4     10  \n",
       "\n",
       "[300000 rows x 15 columns]"
      ]
     },
     "execution_count": 38,
     "metadata": {},
     "output_type": "execute_result"
    }
   ],
   "source": [
    "x_feature_selected = x_train.iloc[:,features_to_keep] \n",
    "x_feature_selected"
   ]
  },
  {
   "cell_type": "code",
   "execution_count": null,
   "metadata": {},
   "outputs": [],
   "source": []
  },
  {
   "cell_type": "code",
   "execution_count": 39,
   "metadata": {},
   "outputs": [],
   "source": [
    "#splitting our selected data"
   ]
  },
  {
   "cell_type": "code",
   "execution_count": 40,
   "metadata": {},
   "outputs": [],
   "source": [
    "from sklearn.model_selection import train_test_split\n",
    "x_traint, x_testt, y_traint, y_testt = train_test_split(x_feature_selected,y_train,test_size=0.30, random_state=2)"
   ]
  },
  {
   "cell_type": "code",
   "execution_count": 41,
   "metadata": {},
   "outputs": [],
   "source": [
    "from sklearn.ensemble import RandomForestClassifier as RF"
   ]
  },
  {
   "cell_type": "code",
   "execution_count": 42,
   "metadata": {},
   "outputs": [],
   "source": [
    "x_f_test = x_test.drop(['var2','var3','var5','var7','var8','var10','var11','var14','var16','var25','var24','var28','var29','var31','var33','var35','var37','var38','var39','var40'],axis = 1)"
   ]
  },
  {
   "cell_type": "code",
   "execution_count": 43,
   "metadata": {},
   "outputs": [],
   "source": [
    "#fitting random forest model in selected data"
   ]
  },
  {
   "cell_type": "code",
   "execution_count": 44,
   "metadata": {},
   "outputs": [
    {
     "name": "stderr",
     "output_type": "stream",
     "text": [
      "C:\\Users\\SHRADDHA MEHTA\\Anaconda3\\lib\\site-packages\\sklearn\\ensemble\\forest.py:245: FutureWarning: The default value of n_estimators will change from 10 in version 0.20 to 100 in 0.22.\n",
      "  \"10 in version 0.20 to 100 in 0.22.\", FutureWarning)\n"
     ]
    },
    {
     "data": {
      "text/plain": [
       "RandomForestClassifier(bootstrap=True, class_weight=None, criterion='gini',\n",
       "                       max_depth=None, max_features='auto', max_leaf_nodes=None,\n",
       "                       min_impurity_decrease=0.0, min_impurity_split=None,\n",
       "                       min_samples_leaf=1, min_samples_split=2,\n",
       "                       min_weight_fraction_leaf=0.0, n_estimators=10,\n",
       "                       n_jobs=None, oob_score=False, random_state=None,\n",
       "                       verbose=0, warm_start=False)"
      ]
     },
     "execution_count": 44,
     "metadata": {},
     "output_type": "execute_result"
    }
   ],
   "source": [
    "model_RF= RF()\n",
    "model_RF.fit(x_traint,y_traint)\n"
   ]
  },
  {
   "cell_type": "code",
   "execution_count": 45,
   "metadata": {},
   "outputs": [
    {
     "data": {
      "text/plain": [
       "array([2, 1, 2, ..., 2, 3, 1], dtype=int64)"
      ]
     },
     "execution_count": 45,
     "metadata": {},
     "output_type": "execute_result"
    }
   ],
   "source": [
    "y_pre=model_RF.predict(x_testt)\n",
    "y_pre"
   ]
  },
  {
   "cell_type": "code",
   "execution_count": 46,
   "metadata": {},
   "outputs": [
    {
     "data": {
      "text/plain": [
       "0.7190666666666666"
      ]
     },
     "execution_count": 46,
     "metadata": {},
     "output_type": "execute_result"
    }
   ],
   "source": [
    "RF_Accuracy=np.mean(y_testt == y_pre)\n",
    "RF_Accuracy"
   ]
  },
  {
   "cell_type": "code",
   "execution_count": 47,
   "metadata": {},
   "outputs": [],
   "source": [
    "#final output by random forest"
   ]
  },
  {
   "cell_type": "code",
   "execution_count": 48,
   "metadata": {},
   "outputs": [
    {
     "data": {
      "text/plain": [
       "array([1, 1, 3, ..., 2, 1, 1], dtype=int64)"
      ]
     },
     "execution_count": 48,
     "metadata": {},
     "output_type": "execute_result"
    }
   ],
   "source": [
    "y_f_pre = model_RF.predict(x_f_test)\n",
    "y_f_pre"
   ]
  },
  {
   "cell_type": "code",
   "execution_count": 49,
   "metadata": {},
   "outputs": [],
   "source": [
    "from sklearn.ensemble import GradientBoostingClassifier"
   ]
  },
  {
   "cell_type": "code",
   "execution_count": 50,
   "metadata": {},
   "outputs": [
    {
     "data": {
      "text/plain": [
       "GradientBoostingClassifier(criterion='friedman_mse', init=None,\n",
       "                           learning_rate=0.1, loss='deviance', max_depth=3,\n",
       "                           max_features=None, max_leaf_nodes=None,\n",
       "                           min_impurity_decrease=0.0, min_impurity_split=None,\n",
       "                           min_samples_leaf=1, min_samples_split=2,\n",
       "                           min_weight_fraction_leaf=0.0, n_estimators=100,\n",
       "                           n_iter_no_change=None, presort='auto',\n",
       "                           random_state=None, subsample=1.0, tol=0.0001,\n",
       "                           validation_fraction=0.1, verbose=0,\n",
       "                           warm_start=False)"
      ]
     },
     "execution_count": 50,
     "metadata": {},
     "output_type": "execute_result"
    }
   ],
   "source": [
    "model_gb = GradientBoostingClassifier()\n",
    "model_gb.fit(x_traint,y_traint)"
   ]
  },
  {
   "cell_type": "code",
   "execution_count": 51,
   "metadata": {},
   "outputs": [
    {
     "data": {
      "text/plain": [
       "array([2, 1, 4, ..., 1, 3, 1], dtype=int64)"
      ]
     },
     "execution_count": 51,
     "metadata": {},
     "output_type": "execute_result"
    }
   ],
   "source": [
    "y_predict = model_gb.predict(x_testt)\n",
    "y_predict"
   ]
  },
  {
   "cell_type": "code",
   "execution_count": 52,
   "metadata": {},
   "outputs": [
    {
     "data": {
      "text/plain": [
       "0.7372666666666666"
      ]
     },
     "execution_count": 52,
     "metadata": {},
     "output_type": "execute_result"
    }
   ],
   "source": [
    "GB_Accuracy=np.mean(y_testt == y_predict)\n",
    "GB_Accuracy"
   ]
  },
  {
   "cell_type": "code",
   "execution_count": null,
   "metadata": {},
   "outputs": [],
   "source": [
    "#final output by gb"
   ]
  },
  {
   "cell_type": "code",
   "execution_count": 53,
   "metadata": {},
   "outputs": [
    {
     "data": {
      "text/plain": [
       "array([1, 1, 3, ..., 2, 1, 1], dtype=int64)"
      ]
     },
     "execution_count": 53,
     "metadata": {},
     "output_type": "execute_result"
    }
   ],
   "source": [
    "y_f_predict = model_gb.predict(x_f_test)\n",
    "y_f_predict"
   ]
  },
  {
   "cell_type": "code",
   "execution_count": 54,
   "metadata": {},
   "outputs": [],
   "source": [
    "y_f_predict = pd.DataFrame(y_f_predict)"
   ]
  },
  {
   "cell_type": "code",
   "execution_count": 55,
   "metadata": {},
   "outputs": [],
   "source": [
    "from xlsxwriter.utility import xl_rowcol_to_cell"
   ]
  },
  {
   "cell_type": "code",
   "execution_count": 57,
   "metadata": {},
   "outputs": [],
   "source": [
    "output = pd.ExcelWriter('change.xlsx',engine = 'xlsxwriter')\n",
    "y_f_predict.to_excel(output,index = False,sheet_name = 'report')\n",
    "output.save()"
   ]
  },
  {
   "cell_type": "code",
   "execution_count": 64,
   "metadata": {},
   "outputs": [
    {
     "data": {
      "text/plain": [
       "1    204900\n",
       "2     48990\n",
       "3     39282\n",
       "4      6828\n",
       "Name: 0, dtype: int64"
      ]
     },
     "execution_count": 64,
     "metadata": {},
     "output_type": "execute_result"
    }
   ],
   "source": [
    "y_f_predict[0].value_counts()"
   ]
  },
  {
   "cell_type": "code",
   "execution_count": null,
   "metadata": {},
   "outputs": [],
   "source": []
  },
  {
   "cell_type": "code",
   "execution_count": null,
   "metadata": {},
   "outputs": [],
   "source": []
  },
  {
   "cell_type": "code",
   "execution_count": null,
   "metadata": {},
   "outputs": [],
   "source": []
  }
 ],
 "metadata": {
  "kernelspec": {
   "display_name": "Python 3",
   "language": "python",
   "name": "python3"
  },
  "language_info": {
   "codemirror_mode": {
    "name": "ipython",
    "version": 3
   },
   "file_extension": ".py",
   "mimetype": "text/x-python",
   "name": "python",
   "nbconvert_exporter": "python",
   "pygments_lexer": "ipython3",
   "version": "3.8.3"
  }
 },
 "nbformat": 4,
 "nbformat_minor": 2
}
